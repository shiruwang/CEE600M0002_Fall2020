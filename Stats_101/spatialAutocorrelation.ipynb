{
 "cells": [
  {
   "cell_type": "code",
   "execution_count": null,
   "metadata": {},
   "outputs": [],
   "source": [
    "import pysal as ps\n",
    "import numpy as np\n",
    "import geopandas as gpd\n",
    "import pandas as pd\n",
    "import matplotlib.pyplot as plt\n",
    "import seaborn as sns\n",
    "from libpysal.weights.contiguity import Queen\n",
    "import libpysal\n",
    "sns.set_style('white')\n"
   ]
  },
  {
   "cell_type": "code",
   "execution_count": null,
   "metadata": {},
   "outputs": [],
   "source": [
    "from libpysal.examples import load_example\n",
    "elections = load_example('Elections')"
   ]
  },
  {
   "cell_type": "code",
   "execution_count": null,
   "metadata": {},
   "outputs": [],
   "source": [
    "elections.get_file_list()"
   ]
  },
  {
   "cell_type": "code",
   "execution_count": null,
   "metadata": {},
   "outputs": [],
   "source": [
    "#geoms = gpd.read_file(ps.examples.get_path('NAT.shp'))"
   ]
  },
  {
   "cell_type": "code",
   "execution_count": null,
   "metadata": {},
   "outputs": [],
   "source": [
    "votes = gpd.read_file(elections.get_path('election.shp'))\n",
    "%matplotlib inline\n",
    "votes.plot()"
   ]
  },
  {
   "cell_type": "code",
   "execution_count": null,
   "metadata": {},
   "outputs": [],
   "source": [
    "votes.head()"
   ]
  },
  {
   "cell_type": "code",
   "execution_count": null,
   "metadata": {},
   "outputs": [],
   "source": [
    "print(votes['pct_dem_12'].mean())\n",
    "print(votes['pct_dem_16'].mean())"
   ]
  },
  {
   "cell_type": "code",
   "execution_count": null,
   "metadata": {},
   "outputs": [],
   "source": [
    "f,ax = plt.subplots(1,2, figsize=(2*3*1.6, 2))\n",
    "for i,col in enumerate(['pct_dem_12','pct_dem_16']):\n",
    "    sns.kdeplot(votes[col].values, shade=True, color='slategrey', ax=ax[i])\n",
    "    ax[i].set_title(col.split('_')[1])"
   ]
  },
  {
   "cell_type": "code",
   "execution_count": null,
   "metadata": {},
   "outputs": [],
   "source": [
    "votes.crs = {'init':'epsg:4326'}\n",
    "votes = votes.to_crs(epsg='5070')"
   ]
  },
  {
   "cell_type": "code",
   "execution_count": null,
   "metadata": {},
   "outputs": [],
   "source": [
    "f,ax = plt.subplots(2,2, figsize=(1.6*6 + 1,6*3), gridspec_kw=dict(width_ratios=(6,1)))\n",
    "for i,col in enumerate(['pct_dem_12','pct_dem_16']):\n",
    "    votes.plot(col, linewidth=.05, cmap='RdBu', ax=ax[i,0])\n",
    "    ax[i,0].set_title(col.split('_')[1] + ' Two Party Vote (% Dem)')\n",
    "    ax[i,0].set_xticklabels('')\n",
    "    ax[i,0].set_yticklabels('')\n",
    "    sns.kdeplot(votes[col].values, ax=ax[i,1], vertical=True, shade=True, color='slategrey')\n",
    "    ax[i,1].set_xticklabels('')\n",
    "    ax[i,1].set_ylim(0,1)\n",
    "f.tight_layout()\n",
    "plt.show()"
   ]
  },
  {
   "cell_type": "code",
   "execution_count": null,
   "metadata": {},
   "outputs": [],
   "source": [
    "votes.dropna(subset=['pct_dem_12','pct_dem_16'], inplace=True)"
   ]
  },
  {
   "cell_type": "code",
   "execution_count": null,
   "metadata": {},
   "outputs": [],
   "source": [
    "f,ax = plt.subplots(1,2, figsize=(4*2.1,4))\n",
    "votes[['pct_dem_12','pct_dem_16']].plot.scatter('pct_dem_12','pct_dem_16', ax=ax[0])\n",
    "ax[0].set_xlabel('2008 Two Party Vote (% Dem)')\n",
    "ax[0].set_ylabel('2012 Two Party Vote (% Dem)')\n",
    "ax[0].axis([0,1,0,1])\n",
    "r = np.corrcoef(votes['pct_dem_12'].values, votes['pct_dem_16'].values)[0,1]\n",
    "\n",
    "f.tight_layout()\n",
    "plt.show()"
   ]
  },
  {
   "cell_type": "code",
   "execution_count": null,
   "metadata": {
    "scrolled": true
   },
   "outputs": [],
   "source": [
    "from splot.libpysal import plot_spatial_weights\n",
    "w = Queen.from_dataframe(votes)\n",
    "plot_spatial_weights(weights, votes)\n",
    "plt.show()"
   ]
  },
  {
   "cell_type": "code",
   "execution_count": null,
   "metadata": {
    "scrolled": true
   },
   "outputs": [],
   "source": [
    "from splot.esda import moran_scatterplot\n",
    "from splot.esda import plot_moran\n",
    "\n",
    "\n",
    "# calculate Moran and plot\n",
    "moran = Moran(votes['pct_dem_16'], w=W)\n",
    "plot_moran(moran, zstandard=True, figsize=(10,4))\n",
    "plt.show()\n",
    "ax.set_xlabel('pct_dem_16')\n",
    "ax.set_ylabel('Spatial Lag of pct_dem_16')\n",
    "plt.show()"
   ]
  },
  {
   "cell_type": "code",
   "execution_count": null,
   "metadata": {},
   "outputs": [],
   "source": [
    "?moran"
   ]
  },
  {
   "cell_type": "markdown",
   "metadata": {},
   "source": [
    "## TASK: How can we isolate a p-value to validate whether our assumption of normality is true?"
   ]
  }
 ],
 "metadata": {
  "kernelspec": {
   "display_name": "class_env",
   "language": "python",
   "name": "class_env"
  },
  "language_info": {
   "codemirror_mode": {
    "name": "ipython",
    "version": 3
   },
   "file_extension": ".py",
   "mimetype": "text/x-python",
   "name": "python",
   "nbconvert_exporter": "python",
   "pygments_lexer": "ipython3",
   "version": "3.8.2"
  }
 },
 "nbformat": 4,
 "nbformat_minor": 4
}
